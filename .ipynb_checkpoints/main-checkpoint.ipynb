{
 "cells": [
  {
   "cell_type": "code",
   "execution_count": 10,
   "id": "15d04bc7-b36f-48d4-a8f5-61e8d3739fa2",
   "metadata": {},
   "outputs": [],
   "source": [
    "import numpy"
   ]
  },
  {
   "cell_type": "code",
   "execution_count": 11,
   "id": "6858ffd3-d074-4647-ac68-566b93c86338",
   "metadata": {},
   "outputs": [
    {
     "name": "stdout",
     "output_type": "stream",
     "text": [
      "> 2025-04-11 09:43:05,905 [info] Overwriting project (by deleting and then creating): {\"name\":\"stt9-jovyan\"}\n",
      "> 2025-04-11 09:43:05,931 [info] Waiting for project to be deleted: {\"project_name\":\"stt9-jovyan\"}\n",
      "> 2025-04-11 09:43:08,972 [info] Project deleted: {\"project_name\":\"stt9-jovyan\"}\n",
      "> 2025-04-11 09:43:09,023 [info] Created and saved project: {\"context\":\"./\",\"from_template\":null,\"name\":\"stt9-jovyan\",\"overwrite\":true,\"save\":true}\n"
     ]
    }
   ],
   "source": [
    "import mlrun\n",
    "\n",
    "project = mlrun.new_project(\"stt9\", \"./\", user_project=True, description=\"STT AI assignment 9\", overwrite=True)"
   ]
  },
  {
   "cell_type": "code",
   "execution_count": 12,
   "id": "7673f982-895d-4d83-a495-601685adbd15",
   "metadata": {},
   "outputs": [
    {
     "name": "stdout",
     "output_type": "stream",
     "text": [
      "Python 3.9.13\n"
     ]
    }
   ],
   "source": [
    "!python --version\n"
   ]
  },
  {
   "cell_type": "code",
   "execution_count": 13,
   "id": "b3c3c54a-b4f0-4703-991e-16e764216322",
   "metadata": {},
   "outputs": [],
   "source": [
    "data_gen_fn = project.set_function(\n",
    "    \"Data_prep.py\",\n",
    "    name=\"Data-prep\",\n",
    "    kind=\"job\",\n",
    "    image=\"mlrun/mlrun\",\n",
    "    handler=\"breast_cancer_generator\",\n",
    ")"
   ]
  },
  {
   "cell_type": "code",
   "execution_count": 14,
   "id": "897ade3e-08f7-41e4-bed8-f69006fcc314",
   "metadata": {},
   "outputs": [],
   "source": [
    "trainer = project.set_function(\n",
    "    \"Trainer.py\", name=\"trainer\", kind=\"job\", image=\"mlrun/mlrun\", handler=\"train\"\n",
    ")"
   ]
  },
  {
   "cell_type": "code",
   "execution_count": 15,
   "id": "ddf2130a-b35f-457a-9880-0d1d08ed1666",
   "metadata": {},
   "outputs": [
    {
     "data": {
      "text/plain": [
       "<mlrun.runtimes.nuclio.serving.ServingRuntime at 0x7f150290fb80>"
      ]
     },
     "execution_count": 15,
     "metadata": {},
     "output_type": "execute_result"
    }
   ],
   "source": [
    "project.set_function(\n",
    "  \"serving.py\",                \n",
    "  name=\"serving\",              \n",
    "  kind=\"serving\",              \n",
    "  image=\"mlrun/mlrun\"          \n",
    ")"
   ]
  },
  {
   "cell_type": "code",
   "execution_count": 16,
   "id": "12c489e2-5f22-4020-bbd2-067f0541ed3d",
   "metadata": {},
   "outputs": [],
   "source": [
    "project.set_workflow(\"main\", \"workflow.py\")"
   ]
  },
  {
   "cell_type": "code",
   "execution_count": 17,
   "id": "81035d51-c694-4d55-adbe-964250b0b61c",
   "metadata": {},
   "outputs": [
    {
     "name": "stdout",
     "output_type": "stream",
     "text": [
      "> 2025-04-11 09:43:10,443 [warning] it is recommended to use k8s secret (specify secret_name), specifying the aws_access_key/aws_secret_key directly is unsafe\n",
      "> 2025-04-11 09:43:10,447 [warning] it is recommended to use k8s secret (specify secret_name), specifying the aws_access_key/aws_secret_key directly is unsafe\n",
      "> 2025-04-11 09:43:10,449 [warning] it is recommended to use k8s secret (specify secret_name), specifying the aws_access_key/aws_secret_key directly is unsafe\n",
      "> 2025-04-11 09:43:10,884 [info] Pipeline submitted successfully: {\"id\":\"440b8e8c-7ba2-4eb8-94aa-7097f7315b82\",\"pipeline_name\":\"stt9-jovyan-main 2025-04-11 09-43-10\"}\n",
      "> 2025-04-11 09:43:10,885 [info] Pipeline run id=440b8e8c-7ba2-4eb8-94aa-7097f7315b82, check UI for progress\n"
     ]
    },
    {
     "data": {
      "text/html": [
       "Workflow started in project stt9-jovyan id=440b8e8c-7ba2-4eb8-94aa-7097f7315b82<div><a href=\"http://localhost:30060/mlrun/projects/stt9-jovyan/jobs/monitor-workflows/workflow/440b8e8c-7ba2-4eb8-94aa-7097f7315b82\" target=\"_blank\">click here to view progress</a></div>"
      ],
      "text/plain": [
       "<IPython.core.display.HTML object>"
      ]
     },
     "metadata": {},
     "output_type": "display_data"
    },
    {
     "data": {
      "text/html": [
       "<div>Pipeline running (id=440b8e8c-7ba2-4eb8-94aa-7097f7315b82), <a href=\"http://localhost:30060/mlrun/projects/stt9-jovyan/jobs/monitor-workflows/workflow/440b8e8c-7ba2-4eb8-94aa-7097f7315b82\" target=\"_blank\"><b>click here</b></a> to view the details in MLRun UI</div>"
      ],
      "text/plain": [
       "<IPython.core.display.HTML object>"
      ]
     },
     "metadata": {},
     "output_type": "display_data"
    },
    {
     "data": {
      "image/svg+xml": [
       "<?xml version=\"1.0\" encoding=\"UTF-8\" standalone=\"no\"?>\n",
       "<!DOCTYPE svg PUBLIC \"-//W3C//DTD SVG 1.1//EN\"\n",
       " \"http://www.w3.org/Graphics/SVG/1.1/DTD/svg11.dtd\">\n",
       "<!-- Generated by graphviz version 2.43.0 (0)\n",
       " -->\n",
       "<!-- Title: kfp Pages: 1 -->\n",
       "<svg width=\"8pt\" height=\"8pt\"\n",
       " viewBox=\"0.00 0.00 8.00 8.00\" xmlns=\"http://www.w3.org/2000/svg\" xmlns:xlink=\"http://www.w3.org/1999/xlink\">\n",
       "<g id=\"graph0\" class=\"graph\" transform=\"scale(1 1) rotate(0) translate(4 4)\">\n",
       "<title>kfp</title>\n",
       "<polygon fill=\"white\" stroke=\"transparent\" points=\"-4,4 -4,-4 4,-4 4,4 -4,4\"/>\n",
       "</g>\n",
       "</svg>\n"
      ],
      "text/plain": [
       "<graphviz.graphs.Digraph at 0x7f14fb71aca0>"
      ]
     },
     "metadata": {},
     "output_type": "display_data"
    },
    {
     "name": "stdout",
     "output_type": "stream",
     "text": [
      "> 2025-04-11 09:43:11,037 [info] Started run workflow stt9-jovyan-main with run id = '440b8e8c-7ba2-4eb8-94aa-7097f7315b82' by kfp engine\n",
      "> 2025-04-11 09:43:11,038 [info] Waiting for pipeline run completion: {\"project\":\"stt9-jovyan\",\"run_id\":\"440b8e8c-7ba2-4eb8-94aa-7097f7315b82\"}\n"
     ]
    },
    {
     "data": {
      "image/svg+xml": [
       "<?xml version=\"1.0\" encoding=\"UTF-8\" standalone=\"no\"?>\n",
       "<!DOCTYPE svg PUBLIC \"-//W3C//DTD SVG 1.1//EN\"\n",
       " \"http://www.w3.org/Graphics/SVG/1.1/DTD/svg11.dtd\">\n",
       "<!-- Generated by graphviz version 2.43.0 (0)\n",
       " -->\n",
       "<!-- Title: kfp Pages: 1 -->\n",
       "<svg width=\"106pt\" height=\"188pt\"\n",
       " viewBox=\"0.00 0.00 106.00 188.00\" xmlns=\"http://www.w3.org/2000/svg\" xmlns:xlink=\"http://www.w3.org/1999/xlink\">\n",
       "<g id=\"graph0\" class=\"graph\" transform=\"scale(1 1) rotate(0) translate(4 184)\">\n",
       "<title>kfp</title>\n",
       "<polygon fill=\"white\" stroke=\"transparent\" points=\"-4,4 -4,-184 102,-184 102,4 -4,4\"/>\n",
       "<!-- breast&#45;cancer&#45;classifier&#45;pipeline&#45;j9gmw&#45;3099175481 -->\n",
       "<g id=\"node1\" class=\"node\">\n",
       "<title>breast&#45;cancer&#45;classifier&#45;pipeline&#45;j9gmw&#45;3099175481</title>\n",
       "<polygon fill=\"green\" stroke=\"black\" points=\"98,-36 4,-36 0,-32 0,0 94,0 98,-4 98,-36\"/>\n",
       "<polyline fill=\"none\" stroke=\"black\" points=\"94,-32 0,-32 \"/>\n",
       "<polyline fill=\"none\" stroke=\"black\" points=\"94,-32 94,0 \"/>\n",
       "<polyline fill=\"none\" stroke=\"black\" points=\"94,-32 98,-36 \"/>\n",
       "<text text-anchor=\"middle\" x=\"49\" y=\"-14.3\" font-family=\"Times,serif\" font-size=\"14.00\">deploy&#45;serving</text>\n",
       "</g>\n",
       "<!-- breast&#45;cancer&#45;classifier&#45;pipeline&#45;j9gmw&#45;3479897521 -->\n",
       "<g id=\"node2\" class=\"node\">\n",
       "<title>breast&#45;cancer&#45;classifier&#45;pipeline&#45;j9gmw&#45;3479897521</title>\n",
       "<ellipse fill=\"green\" stroke=\"black\" cx=\"49\" cy=\"-162\" rx=\"44.39\" ry=\"18\"/>\n",
       "<text text-anchor=\"middle\" x=\"49\" y=\"-158.3\" font-family=\"Times,serif\" font-size=\"14.00\">data&#45;prep</text>\n",
       "</g>\n",
       "<!-- breast&#45;cancer&#45;classifier&#45;pipeline&#45;j9gmw&#45;3496979808 -->\n",
       "<g id=\"node3\" class=\"node\">\n",
       "<title>breast&#45;cancer&#45;classifier&#45;pipeline&#45;j9gmw&#45;3496979808</title>\n",
       "<ellipse fill=\"green\" stroke=\"black\" cx=\"49\" cy=\"-90\" rx=\"33.6\" ry=\"18\"/>\n",
       "<text text-anchor=\"middle\" x=\"49\" y=\"-86.3\" font-family=\"Times,serif\" font-size=\"14.00\">trainer</text>\n",
       "</g>\n",
       "<!-- breast&#45;cancer&#45;classifier&#45;pipeline&#45;j9gmw&#45;3479897521&#45;&gt;breast&#45;cancer&#45;classifier&#45;pipeline&#45;j9gmw&#45;3496979808 -->\n",
       "<g id=\"edge1\" class=\"edge\">\n",
       "<title>breast&#45;cancer&#45;classifier&#45;pipeline&#45;j9gmw&#45;3479897521&#45;&gt;breast&#45;cancer&#45;classifier&#45;pipeline&#45;j9gmw&#45;3496979808</title>\n",
       "<path fill=\"none\" stroke=\"black\" d=\"M49,-143.7C49,-135.98 49,-126.71 49,-118.11\"/>\n",
       "<polygon fill=\"black\" stroke=\"black\" points=\"52.5,-118.1 49,-108.1 45.5,-118.1 52.5,-118.1\"/>\n",
       "</g>\n",
       "<!-- breast&#45;cancer&#45;classifier&#45;pipeline&#45;j9gmw&#45;3496979808&#45;&gt;breast&#45;cancer&#45;classifier&#45;pipeline&#45;j9gmw&#45;3099175481 -->\n",
       "<g id=\"edge2\" class=\"edge\">\n",
       "<title>breast&#45;cancer&#45;classifier&#45;pipeline&#45;j9gmw&#45;3496979808&#45;&gt;breast&#45;cancer&#45;classifier&#45;pipeline&#45;j9gmw&#45;3099175481</title>\n",
       "<path fill=\"none\" stroke=\"black\" d=\"M49,-71.7C49,-63.98 49,-54.71 49,-46.11\"/>\n",
       "<polygon fill=\"black\" stroke=\"black\" points=\"52.5,-46.1 49,-36.1 45.5,-46.1 52.5,-46.1\"/>\n",
       "</g>\n",
       "</g>\n",
       "</svg>\n"
      ],
      "text/plain": [
       "<graphviz.graphs.Digraph at 0x7f150290fac0>"
      ]
     },
     "metadata": {},
     "output_type": "display_data"
    },
    {
     "data": {
      "text/html": [
       "<h2>Run Results</h2><h3>[info] Workflow 440b8e8c-7ba2-4eb8-94aa-7097f7315b82 finished, state=Succeeded</h3><br>click the hyper links below to see detailed results<br><table border=\"1\" class=\"dataframe\">\n",
       "  <thead>\n",
       "    <tr style=\"text-align: right;\">\n",
       "      <th>uid</th>\n",
       "      <th>start</th>\n",
       "      <th>state</th>\n",
       "      <th>kind</th>\n",
       "      <th>name</th>\n",
       "      <th>parameters</th>\n",
       "      <th>results</th>\n",
       "    </tr>\n",
       "  </thead>\n",
       "  <tbody>\n",
       "    <tr>\n",
       "      <td><div title=\"9df58693531049bf94f62c6015cac7e3\"><a href=\"http://localhost:30060/mlrun/projects/stt9-jovyan/jobs/monitor/9df58693531049bf94f62c6015cac7e3/overview\" target=\"_blank\" >...15cac7e3</a></div></td>\n",
       "      <td>Apr 11 09:43:48</td>\n",
       "      <td>completed</td>\n",
       "      <td>run</td>\n",
       "      <td>trainer</td>\n",
       "      <td></td>\n",
       "      <td><div class=\"dictlist\">best_iteration=7</div><div class=\"dictlist\">accuracy=0.9736842105263158</div><div class=\"dictlist\">f1_score=0.9790209790209791</div><div class=\"dictlist\">precision_score=0.9722222222222222</div><div class=\"dictlist\">recall_score=0.9859154929577465</div></td>\n",
       "    </tr>\n",
       "    <tr>\n",
       "      <td><div title=\"bb0210a889b24dafac666ec0d683ee76\"><a href=\"http://localhost:30060/mlrun/projects/stt9-jovyan/jobs/monitor/bb0210a889b24dafac666ec0d683ee76/overview\" target=\"_blank\" >...d683ee76</a></div></td>\n",
       "      <td>Apr 11 09:43:21</td>\n",
       "      <td>completed</td>\n",
       "      <td>run</td>\n",
       "      <td>data-prep</td>\n",
       "      <td></td>\n",
       "      <td><div class=\"dictlist\">label_column=label</div></td>\n",
       "    </tr>\n",
       "  </tbody>\n",
       "</table>"
      ],
      "text/plain": [
       "<IPython.core.display.HTML object>"
      ]
     },
     "metadata": {},
     "output_type": "display_data"
    },
    {
     "data": {
      "text/plain": [
       "440b8e8c-7ba2-4eb8-94aa-7097f7315b82"
      ]
     },
     "execution_count": 17,
     "metadata": {},
     "output_type": "execute_result"
    }
   ],
   "source": [
    "project.run(\"main\", watch=True)"
   ]
  },
  {
   "cell_type": "code",
   "execution_count": 19,
   "id": "6101c3f3-2a7b-4c8a-b94a-3b9e759461f9",
   "metadata": {},
   "outputs": [
    {
     "data": {
      "text/plain": [
       "<mlrun.projects.project.MlrunProject at 0x7f15bc54ad90>"
      ]
     },
     "execution_count": 19,
     "metadata": {},
     "output_type": "execute_result"
    }
   ],
   "source": [
    "project.save() "
   ]
  },
  {
   "cell_type": "code",
   "execution_count": null,
   "id": "ef7f7706-2e2a-4033-9734-7fdc7b751263",
   "metadata": {},
   "outputs": [],
   "source": []
  }
 ],
 "metadata": {
  "kernelspec": {
   "display_name": "Python 3 (ipykernel)",
   "language": "python",
   "name": "python3"
  },
  "language_info": {
   "codemirror_mode": {
    "name": "ipython",
    "version": 3
   },
   "file_extension": ".py",
   "mimetype": "text/x-python",
   "name": "python",
   "nbconvert_exporter": "python",
   "pygments_lexer": "ipython3",
   "version": "3.9.13"
  }
 },
 "nbformat": 4,
 "nbformat_minor": 5
}
